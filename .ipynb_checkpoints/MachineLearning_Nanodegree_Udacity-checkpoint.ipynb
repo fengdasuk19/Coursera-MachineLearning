{
 "cells": [
  {
   "cell_type": "markdown",
   "metadata": {},
   "source": [
    "# Udacity-MLND 笔记\n",
    "\n",
    "这是对 [Machine learning Nanodegree](https://classroom.udacity.com/nanodegrees/nd009/syllabus) 这门课的笔记\n",
    "\n",
    "\n",
    "# P0\n",
    "\n",
    "## 项目\n",
    "\n",
    "详细内容查看[这里](https://github.com/fengdasuk19/Udacity-MachineLearningNanoDegree/blob/master/projects_cn/titanic_survival_exploration/Titanic_Survival_Exploration.ipynb)\n",
    "\n",
    "## 笔记\n",
    "\n",
    "1. 撰写数据分析报告时，和写论文一样：\n",
    "    - 每次试验前，应记录假设（和预测）\n",
    "    - 每次试验后，应马上详细记录下述几项（不要等到以后再记录！！！）\n",
    "      - 试验过程\n",
    "      - 试验结果\n",
    "      - 对试验的分析\n",
    "\n",
    "# P1\n",
    "\n",
    "## 项目\n",
    "\n",
    "详细内容查看[这里] 。。。\n",
    "\n",
    "## 笔记\n",
    "\n",
    "1. 用于描述数据集特征的 3 个数：[模型评估和验证 -> 集中趋势测量 -> 测验：小结：中心测量值](https://classroom.udacity.com/nanodegrees/nd009/parts/0091345402/modules/541541914275460/lessons/5422370497/concepts/773143400923)\n",
    "  - 众数（Mode）：\n",
    "    - 局部峰值，一定是某个数吗？【----------------------------可能是数据集中的某个数，也可能是（对于大分布而言）是某个区间】\n",
    "    - 当作频率直方图时，众数出现在横轴还是纵轴？【-------------------------------------------横轴（ X 轴）】\n",
    "    - 数据集中，并不是每一个数都能影响众数？【--------------------------------------------------------------------否】\n",
    "    - 众数会受组距影响吗？【------------------------------------------------------会】\n",
    "  - 均值（Average）\n",
    "  - 中位数（Median）：健壮（robust）！较少受到异常值影响\n",
    "2. 。"
   ]
  }
 ],
 "metadata": {
  "kernelspec": {
   "display_name": "Python 2",
   "language": "python",
   "name": "python2"
  },
  "language_info": {
   "codemirror_mode": {
    "name": "ipython",
    "version": 2
   },
   "file_extension": ".py",
   "mimetype": "text/x-python",
   "name": "python",
   "nbconvert_exporter": "python",
   "pygments_lexer": "ipython2",
   "version": "2.7.12"
  }
 },
 "nbformat": 4,
 "nbformat_minor": 0
}
